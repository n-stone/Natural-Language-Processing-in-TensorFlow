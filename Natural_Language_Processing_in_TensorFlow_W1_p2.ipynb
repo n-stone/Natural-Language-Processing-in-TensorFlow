{
  "nbformat": 4,
  "nbformat_minor": 0,
  "metadata": {
    "colab": {
      "provenance": []
    },
    "kernelspec": {
      "name": "python3",
      "display_name": "Python 3"
    },
    "language_info": {
      "name": "python"
    }
  },
  "cells": [
    {
      "cell_type": "code",
      "execution_count": 18,
      "metadata": {
        "colab": {
          "base_uri": "https://localhost:8080/"
        },
        "id": "aIhtytvVh5YL",
        "outputId": "ff1021a4-31d9-418b-ad4a-1bf92496f1eb"
      },
      "outputs": [
        {
          "output_type": "stream",
          "name": "stdout",
          "text": [
            "word_index =  {'<oov>': 1, 'my': 2, 'love': 3, 'dog': 4, 'i': 5, 'you': 6, 'cat': 7, 'do': 8, 'think': 9, 'is': 10, 'amazing': 11}\n",
            "sequnces =  [[5, 3, 2, 4], [5, 3, 2, 7], [6, 3, 2, 4], [8, 6, 9, 2, 4, 10, 11]]\n",
            "padded sequences :\n",
            "[[5 3 2 4 0]\n",
            " [5 3 2 7 0]\n",
            " [6 3 2 4 0]\n",
            " [8 6 9 2 4]]\n"
          ]
        }
      ],
      "source": [
        "from tensorflow.keras.preprocessing.text import Tokenizer\n",
        "from tensorflow.keras.preprocessing.sequence import pad_sequences\n",
        "\n",
        "sentences = [\n",
        "    'I love my dog',\n",
        "    'I love my cat',\n",
        "    'You love my dog!',\n",
        "    'Do you think my dog is amazing?'\n",
        "]\n",
        "\n",
        "tokenizer = Tokenizer(num_words = 100, oov_token =\"<oov>\")\n",
        "tokenizer.fit_on_texts(sentences)\n",
        "\n",
        "word_index = tokenizer.word_index\n",
        "sequences = tokenizer.texts_to_sequences(sentences)\n",
        "\n",
        "print(\"word_index = \", word_index)\n",
        "print(\"sequnces = \", sequences)\n",
        "\n",
        "padded = pad_sequences(sequences, padding='post', truncating='post', maxlen=5)\n",
        "\n",
        "print(\"padded sequences :\")\n",
        "print(padded)"
      ]
    },
    {
      "cell_type": "code",
      "source": [
        "test_data = [\n",
        "    'i really love my dog',\n",
        "    'my dog loves my manatee'\n",
        "]\n",
        "\n",
        "test_seq = tokenizer.texts_to_sequences(test_data)\n",
        "print(\"word index = \", word_index)\n",
        "print(\"test sequnece = \", test_seq)\n",
        "\n",
        "padded = pad_sequences(test_seq, padding='post', truncating='post',maxlen=10)\n",
        "print(\"padd test sequence: \")\n",
        "print(padded)"
      ],
      "metadata": {
        "colab": {
          "base_uri": "https://localhost:8080/"
        },
        "id": "uNl3h3QjpF0R",
        "outputId": "fd6c541e-1dd7-4f03-aad9-84c70c330016"
      },
      "execution_count": 17,
      "outputs": [
        {
          "output_type": "stream",
          "name": "stdout",
          "text": [
            "word index =  {'<oov>': 1, 'my': 2, 'love': 3, 'dog': 4, 'i': 5, 'you': 6, 'cat': 7, 'do': 8, 'think': 9, 'is': 10, 'amazing': 11}\n",
            "test sequnece =  [[5, 1, 3, 2, 4], [2, 4, 1, 2, 1]]\n",
            "padd test sequence: \n",
            "[[5 1 3 2 4 0 0 0 0 0]\n",
            " [2 4 1 2 1 0 0 0 0 0]]\n"
          ]
        }
      ]
    }
  ]
}